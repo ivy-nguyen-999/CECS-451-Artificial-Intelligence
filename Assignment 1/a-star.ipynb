{
 "cells": [
  {
   "cell_type": "code",
   "execution_count": 87,
   "metadata": {},
   "outputs": [],
   "source": [
    "# Import math Library\n",
    "import math"
   ]
  },
  {
   "cell_type": "code",
   "execution_count": 88,
   "metadata": {},
   "outputs": [],
   "source": [
    "def parseNearbyCities():\n",
    "    #Use with statement to close the file automatically\n",
    "    with open('map.txt') as mapInput:\n",
    "        #Save all the lines as a list of strings\n",
    "        lines = mapInput.readlines()\n",
    "    \n",
    "    #Create a dictionary to contain the city as key\n",
    "    #and list of nearby cities as value\n",
    "    nearbyCities = {}\n",
    "    \n",
    "    for line in lines:\n",
    "        #Split each line\n",
    "        #Use strip() to remove '\\n'\n",
    "        temp = line.strip().split(\"-\")\n",
    "        city = temp[0].strip(\"''\")\n",
    "        #Create a list contains tuples of nearby cities\n",
    "        listNearbyCities = []\n",
    "        tempNearbyCities = temp[1].strip(\"''\").split(\",\")\n",
    "        #For each nearby city\n",
    "        for nearbyCity in tempNearbyCities:\n",
    "            tempCity = nearbyCity.strip(\"')'\").split(\"(\")\n",
    "            tempTuple = (tempCity[0].strip(\"''\"), float(tempCity[1].strip(\"''\")))\n",
    "            #Add the city to the list\n",
    "            listNearbyCities.append(tempTuple)\n",
    "        #Add the list of nearby cities to the dictionary\n",
    "        nearbyCities[city] = listNearbyCities\n",
    "    \n",
    "    return nearbyCities"
   ]
  },
  {
   "cell_type": "code",
   "execution_count": 89,
   "metadata": {},
   "outputs": [],
   "source": [
    "def parseCoordinates():\n",
    "    #Use with statement to close the file automatically\n",
    "    with open('coordinates.txt') as coordinateInput:\n",
    "        #Save all the lines as a list of strings\n",
    "        lines = coordinateInput.readlines()\n",
    "    \n",
    "    #Create a dictionary to contain all the coordinates with\n",
    "    #the cities as key and longitude and latitude as value\n",
    "    coordinates = {}\n",
    "    \n",
    "    #Loop through each line of the list\n",
    "    for line in lines:\n",
    "        #split into 'location' and '(longitude, latitude)'\n",
    "        temp = line.strip().split(\":\")\n",
    "        city = temp[0].strip(\"''\")\n",
    "        coordinate = temp[1].strip(\"()\").split(\",\")\n",
    "        latitude = float(coordinate[0].strip(\"''\"))\n",
    "        longitude = float(coordinate[1].strip(\"''\"))\n",
    "        coordinates[city] = [latitude, longitude]\n",
    "\n",
    "    return coordinates"
   ]
  },
  {
   "cell_type": "code",
   "execution_count": 90,
   "metadata": {},
   "outputs": [],
   "source": [
    "def findStraightLineDistance(coordinateList, cityA, cityB):\n",
    "    #Radius of the earth\n",
    "    RADIUS = 3958.8\n",
    "    \n",
    "    #Get longitude and latitude and convert to radian\n",
    "    \n",
    "    #First city\n",
    "    latitudeA = coordinateList[cityA][0] * math.pi / 180\n",
    "    longitudeA = coordinateList[cityA][1] * math.pi / 180\n",
    "    \n",
    "    #Second city\n",
    "    latitudeB = coordinateList[cityB][0] * (math.pi / 180)\n",
    "    longitudeB = coordinateList[cityB][1] * (math.pi / 180)\n",
    "    \n",
    "    #Find straight line distance\n",
    "    avgLatitude = (latitudeB - latitudeA) / 2\n",
    "    avgLongitude = (longitudeB - longitudeA) / 2\n",
    "    sinSqAvgLatitude = math.sin(avgLatitude) ** 2\n",
    "    sinSqAvgLongitude = math.sin(avgLongitude) ** 2\n",
    "    insideSq = sinSqAvgLatitude + math.cos(latitudeA) * math.cos(latitudeB) * sinSqAvgLongitude\n",
    "    distance = 2 * RADIUS * math.asin(math.sqrt(insideSq))\n",
    "    return distance"
   ]
  },
  {
   "cell_type": "code",
   "execution_count": 181,
   "metadata": {},
   "outputs": [],
   "source": [
    "def aStar(neighbors, coordinates, currentCity, dest):\n",
    "        \n",
    "    #Create a dictionary to store estimated cost {city:cost}\n",
    "    estimatedCosts = {currentCity:findStraightLineDistance(coordinates, currentCity, dest)}\n",
    "    \n",
    "    #Create a dictionary to store currect cost {city:cost}\n",
    "    actualCosts = {currentCity:0}\n",
    "    \n",
    "    #Create a dictionary to store the paths {current:prev}\n",
    "    paths = {currentCity:'None'}\n",
    "    \n",
    "    while True:\n",
    "        #Use the city that has mininum estimated cost\n",
    "        currentCity = min(estimatedCosts, key = estimatedCosts.get)\n",
    "        \n",
    "        #If the city is the goal\n",
    "        if (currentCity == dest):\n",
    "            break\n",
    "        \n",
    "        #Search for neighbor cities\n",
    "        for city in neighbors[currentCity]:\n",
    "            #Calculate temp values\n",
    "            #city=(name, cost)\n",
    "            tempDist = findStraightLineDistance(coordinates, city[0], dest)\n",
    "            tempActualCost = actualCosts[currentCity] + city[1]\n",
    "            tempEstimateCost = tempActualCost + tempDist\n",
    "            \n",
    "            #If the city is not visited yet or has lower actual value\n",
    "            if ((actualCosts.get(city[0]) is None) or (actualCosts[city[0]] > tempActualCost)):\n",
    "                actualCosts[city[0]] = tempActualCost\n",
    "                estimatedCosts[city[0]] = tempEstimateCost\n",
    "                paths[city[0]] = currentCity\n",
    "        \n",
    "        #Delete the current city\n",
    "        del estimatedCosts[currentCity]\n",
    "    \n",
    "    #Get the path\n",
    "    pathList = []\n",
    "    while (currentCity != 'None'):\n",
    "        pathList.insert(0, currentCity)\n",
    "        currentCity = paths[currentCity]\n",
    "    \n",
    "    #Print output and return\n",
    "    print(\"From city:\", pathList[0])\n",
    "    print(\"To city:\", pathList[-1])\n",
    "    print(\"Best Route:\", end = \" \")\n",
    "    print(*pathList, sep = \" - \")\n",
    "    print(\"Total distance:\", f'{actualCosts[pathList[-1]]:.2f} mi')"
   ]
  },
  {
   "cell_type": "code",
   "execution_count": 182,
   "metadata": {},
   "outputs": [],
   "source": [
    "def main(firstCity, secondCity):\n",
    "    mapCA = parseNearbyCities()\n",
    "    cityCoordinates = parseCoordinates()\n",
    "    \n",
    "    aStar(mapCA, cityCoordinates, firstCity, secondCity)"
   ]
  },
  {
   "cell_type": "code",
   "execution_count": 184,
   "metadata": {},
   "outputs": [
    {
     "name": "stdout",
     "output_type": "stream",
     "text": [
      "From city: Eureka\n",
      "To city: Monterey\n",
      "Best Route: Eureka - SanFrancisco - SanJose - Monterey\n",
      "Total distance: 391.10 mi\n"
     ]
    }
   ],
   "source": [
    "main('Eureka', 'Monterey')"
   ]
  },
  {
   "cell_type": "code",
   "execution_count": null,
   "metadata": {},
   "outputs": [],
   "source": []
  }
 ],
 "metadata": {
  "kernelspec": {
   "display_name": "Python 3",
   "language": "python",
   "name": "python3"
  },
  "language_info": {
   "codemirror_mode": {
    "name": "ipython",
    "version": 3
   },
   "file_extension": ".py",
   "mimetype": "text/x-python",
   "name": "python",
   "nbconvert_exporter": "python",
   "pygments_lexer": "ipython3",
   "version": "3.8.3"
  }
 },
 "nbformat": 4,
 "nbformat_minor": 4
}
